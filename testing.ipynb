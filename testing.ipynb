{
 "cells": [
  {
   "cell_type": "code",
   "execution_count": null,
   "metadata": {},
   "outputs": [],
   "source": [
    "import requests"
   ]
  },
  {
   "cell_type": "code",
   "execution_count": 8,
   "metadata": {},
   "outputs": [
    {
     "name": "stdout",
     "output_type": "stream",
     "text": [
      "{'dress': 2.9943349361419678, 'hat': -3.0185158252716064, 'longsleeve': 3.3827056884765625, 'outwear': -2.2132160663604736, 'pants': -2.9484283924102783, 'shirt': 0.3149870038032532, 'shoes': -3.166250705718994, 'shorts': -2.2726497650146484, 'skirt': -3.6101696491241455, 't-shirt': 7.662222385406494}\n"
     ]
    }
   ],
   "source": [
    "\n",
    "url_docker = 'http://localhost:8080/2015-03-31/functions/function/invocations'\n",
    "data = {'url' : 'https://image.uniqlo.com/UQ/ST3/AsianCommon/imagesgoods/433399/item/goods_09_433399.jpg'}\n",
    "\n",
    "result = requests.post(url_docker, json=data).json()\n",
    "print(result)"
   ]
  },
  {
   "cell_type": "code",
   "execution_count": 14,
   "metadata": {},
   "outputs": [
    {
     "name": "stdout",
     "output_type": "stream",
     "text": [
      "{'dress': 2.9943349361419678, 'hat': -3.0185158252716064, 'longsleeve': 3.3827056884765625, 'outwear': -2.2132160663604736, 'pants': -2.9484283924102783, 'shirt': 0.3149870038032532, 'shoes': -3.166250705718994, 'shorts': -2.2726497650146484, 'skirt': -3.6101696491241455, 't-shirt': 7.662222385406494}\n"
     ]
    }
   ],
   "source": [
    "url_api =  \"https://c60cao7oqb.execute-api.ap-southeast-1.amazonaws.com/prod/predict\"\n",
    "data = {'url' : 'https://image.uniqlo.com/UQ/ST3/AsianCommon/imagesgoods/433399/item/goods_09_433399.jpg'}\n",
    "\n",
    "result = requests.post(url_api, json=data).json()\n",
    "print(result)\n"
   ]
  }
 ],
 "metadata": {
  "kernelspec": {
   "display_name": "Python 3.9.7 ('tf')",
   "language": "python",
   "name": "python3"
  },
  "language_info": {
   "codemirror_mode": {
    "name": "ipython",
    "version": 3
   },
   "file_extension": ".py",
   "mimetype": "text/x-python",
   "name": "python",
   "nbconvert_exporter": "python",
   "pygments_lexer": "ipython3",
   "version": "3.9.7"
  },
  "orig_nbformat": 4,
  "vscode": {
   "interpreter": {
    "hash": "afa2fc15449451a9bcb06f5d2108f5c86705e38ef721c34a2e3df18ff72aca07"
   }
  }
 },
 "nbformat": 4,
 "nbformat_minor": 2
}
